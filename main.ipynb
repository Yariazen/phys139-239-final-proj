{
 "cells": [
  {
   "cell_type": "code",
   "execution_count": 1,
   "id": "580fd59c",
   "metadata": {},
   "outputs": [],
   "source": [
    "import numpy as np\n",
    "import pandas as pd\n",
    "import os\n",
    "import sys\n",
    "import cv2"
   ]
  },
  {
   "cell_type": "code",
   "execution_count": 2,
   "id": "f2319d34",
   "metadata": {
    "scrolled": true
   },
   "outputs": [],
   "source": [
    "data_path = os.path.join(sys.path[0], 'galaxy-zoo-the-galaxy-challenge/data')\n",
    "training_path = os.path.join(data_path, 'images_training_rev1')\n",
    "test_path = os.path.join(data_path, 'images_test_rev1')"
   ]
  },
  {
   "cell_type": "code",
   "execution_count": 3,
   "id": "8ebbdae6",
   "metadata": {},
   "outputs": [],
   "source": [
    "all_ones_benchmark = pd.read_csv(os.path.join(data_path, 'all_ones_benchmark.csv'), dtype=str)\n",
    "all_zeros_benchmark = pd.read_csv(os.path.join(data_path, 'all_zeros_benchmark.csv'), dtype=str)\n",
    "central_pixel_benchmark = pd.read_csv(os.path.join(data_path, 'central_pixel_benchmark.csv'), dtype=str)\n",
    "training_solutions_rev1 = pd.read_csv(os.path.join(data_path, 'training_solutions_rev1.csv'), dtype=str)"
   ]
  },
  {
   "cell_type": "code",
   "execution_count": 4,
   "id": "7e2da426",
   "metadata": {},
   "outputs": [],
   "source": [
    "training_file_names = os.listdir(training_path)\n",
    "test_file_names = os.listdir(test_path)"
   ]
  },
  {
   "cell_type": "code",
   "execution_count": 5,
   "id": "22fce45e",
   "metadata": {},
   "outputs": [],
   "source": [
    "for file in training_file_names[:1]:\n",
    "    img = cv2.imread(os.path.join(training_path, file))"
   ]
  },
  {
   "cell_type": "code",
   "execution_count": 6,
   "id": "f9a2eed3",
   "metadata": {},
   "outputs": [
    {
     "data": {
      "text/plain": [
       "array([[[2, 4, 4],\n",
       "        [4, 6, 6],\n",
       "        [6, 8, 8],\n",
       "        ...,\n",
       "        [0, 0, 0],\n",
       "        [0, 0, 0],\n",
       "        [0, 0, 0]],\n",
       "\n",
       "       [[1, 3, 3],\n",
       "        [3, 5, 5],\n",
       "        [5, 7, 7],\n",
       "        ...,\n",
       "        [0, 0, 0],\n",
       "        [0, 0, 0],\n",
       "        [0, 0, 0]],\n",
       "\n",
       "       [[0, 2, 2],\n",
       "        [2, 4, 4],\n",
       "        [3, 5, 5],\n",
       "        ...,\n",
       "        [0, 1, 1],\n",
       "        [0, 1, 1],\n",
       "        [0, 1, 1]],\n",
       "\n",
       "       ...,\n",
       "\n",
       "       [[4, 6, 6],\n",
       "        [3, 5, 5],\n",
       "        [2, 4, 4],\n",
       "        ...,\n",
       "        [0, 1, 2],\n",
       "        [0, 2, 3],\n",
       "        [1, 3, 4]],\n",
       "\n",
       "       [[2, 4, 4],\n",
       "        [1, 3, 3],\n",
       "        [1, 3, 3],\n",
       "        ...,\n",
       "        [0, 1, 2],\n",
       "        [0, 2, 3],\n",
       "        [1, 3, 4]],\n",
       "\n",
       "       [[1, 3, 3],\n",
       "        [1, 3, 3],\n",
       "        [1, 3, 3],\n",
       "        ...,\n",
       "        [0, 1, 2],\n",
       "        [0, 2, 3],\n",
       "        [1, 3, 4]]], dtype=uint8)"
      ]
     },
     "execution_count": 6,
     "metadata": {},
     "output_type": "execute_result"
    }
   ],
   "source": [
    "img"
   ]
  },
  {
   "cell_type": "code",
   "execution_count": null,
   "id": "3c3d8364",
   "metadata": {},
   "outputs": [],
   "source": []
  }
 ],
 "metadata": {
  "kernelspec": {
   "display_name": "Python 3 (ipykernel)",
   "language": "python",
   "name": "python3"
  },
  "language_info": {
   "codemirror_mode": {
    "name": "ipython",
    "version": 3
   },
   "file_extension": ".py",
   "mimetype": "text/x-python",
   "name": "python",
   "nbconvert_exporter": "python",
   "pygments_lexer": "ipython3",
   "version": "3.9.5"
  },
  "vscode": {
   "interpreter": {
    "hash": "9a10789d11d8c67e98bd9d36939f7ef03652b69216f681e3f86f003592db452c"
   }
  }
 },
 "nbformat": 4,
 "nbformat_minor": 5
}
